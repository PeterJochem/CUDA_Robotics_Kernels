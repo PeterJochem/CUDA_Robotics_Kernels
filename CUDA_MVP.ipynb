{
  "nbformat": 4,
  "nbformat_minor": 0,
  "metadata": {
    "colab": {
      "private_outputs": true,
      "provenance": []
    },
    "kernelspec": {
      "name": "python3",
      "display_name": "Python 3"
    },
    "language_info": {
      "name": "python"
    },
    "accelerator": "GPU"
  },
  "cells": [
    {
      "cell_type": "markdown",
      "metadata": {
        "id": "OSF-QtqCKzm3"
      },
      "source": [
        "# Step 1 is to setup the Google collab environment"
      ]
    },
    {
      "cell_type": "code",
      "source": [
        "!pip install -U featuretools"
      ],
      "metadata": {
        "id": "NXihvSxjT2ys"
      },
      "execution_count": null,
      "outputs": []
    },
    {
      "cell_type": "code",
      "source": [
        "!pip install nvcc4jupyter\n",
        "#!pip install git+https://github.com/andreinechaev/nvcc4jupyter.git\n",
        "%load_ext nvcc4jupyter"
      ],
      "metadata": {
        "id": "y5xXALJFNZTv"
      },
      "execution_count": null,
      "outputs": []
    },
    {
      "cell_type": "code",
      "metadata": {
        "id": "ZHm0Ull_K5XI"
      },
      "source": [
        "%%writefile main.cu\n",
        "#include <stdio.h>\n",
        "#include <iostream>\n",
        "\n",
        "#define N 10\n",
        "\n",
        "__global__ void add(int* a, int* b, int* c){\n",
        "    int index = threadIdx.x; // The CUDA runtime contexts defines this for us.\n",
        "    if (index < N) {\n",
        "      a[index] = b[index] + c[index];\n",
        "    }\n",
        "}\n",
        "\n",
        "void print(int* nums, int size) {\n",
        "\n",
        "    std::cout << std::endl << '[';\n",
        "\n",
        "    for (int i = 0; i < size; i++) {\n",
        "      if (i < (size - 1)) {\n",
        "        std::cout << nums[i] << \", \";\n",
        "      }\n",
        "      else {\n",
        "        std::cout << nums[i];\n",
        "      }\n",
        "    }\n",
        "\n",
        "    std::cout << std::endl << ']';\n",
        "\n",
        "}\n",
        "\n",
        "int main() {\n",
        "\n",
        "    int* a_device, *b_device, *c_device;\n",
        "    int* a_host, *b_host, *c_host;\n",
        "\n",
        "    // Allocate space on the host for A, B, and C.\n",
        "    a_host = (int*) malloc(sizeof(int) * N);\n",
        "    b_host = (int*) malloc(sizeof(int) * N);\n",
        "    c_host = (int*) malloc(sizeof(int) * N);\n",
        "\n",
        "\n",
        "    // Write data to B and C.\n",
        "    for (int i = 0; i < N; i++) {\n",
        "      b_host[i] = 10;\n",
        "      c_host[i] = 10;\n",
        "    }\n",
        "\n",
        "    // Allocate space on the GPU for A, B, and C.\n",
        "    cudaMalloc((void**)&a_device, N * sizeof(int));\n",
        "    cudaMalloc((void**)&b_device, N * sizeof(int));\n",
        "    cudaMalloc((void**)&c_device, N * sizeof(int));\n",
        "\n",
        "    // Copy A and B to the device.\n",
        "    cudaMemcpy(a_device, a_host, N * sizeof(int), cudaMemcpyHostToDevice);\n",
        "    cudaMemcpy(b_device, b_host, N * sizeof(int), cudaMemcpyHostToDevice);\n",
        "    cudaMemcpy(c_device, c_host, N * sizeof(int), cudaMemcpyHostToDevice);\n",
        "\n",
        "    // Call add.\n",
        "    int num_blocks = 256;\n",
        "    int num_threads_per_block = 1;\n",
        "    add<<<num_blocks, num_threads_per_block>>>(a_device, b_device, c_device);\n",
        "\n",
        "    // Copy A back to the host.\n",
        "    cudaMemcpy(a_host, a_device, N * sizeof(int), cudaMemcpyDeviceToHost);\n",
        "\n",
        "    print(a_host, N);\n",
        "\n",
        "\n",
        "    return 0;\n",
        "}"
      ],
      "execution_count": null,
      "outputs": []
    },
    {
      "cell_type": "code",
      "metadata": {
        "id": "m1pvRcjZLBf6"
      },
      "source": [
        "%%script bash\n",
        "nvcc main.cu -o a.out"
      ],
      "execution_count": null,
      "outputs": []
    },
    {
      "cell_type": "code",
      "metadata": {
        "id": "m_1D8cWELDok"
      },
      "source": [
        "%%script bash\n",
        "./a.out"
      ],
      "execution_count": null,
      "outputs": []
    }
  ]
}